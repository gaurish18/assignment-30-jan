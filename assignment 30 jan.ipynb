{
 "cells": [
  {
   "cell_type": "code",
   "execution_count": 1,
   "id": "e6bdb75a-b85e-417f-a4b6-a8317dd76d52",
   "metadata": {},
   "outputs": [
    {
     "name": "stdin",
     "output_type": "stream",
     "text": [
      "Enter the percentage:  89\n"
     ]
    },
    {
     "name": "stdout",
     "output_type": "stream",
     "text": [
      "Your grade is: B\n"
     ]
    }
   ],
   "source": [
    "# Accept percentage from the user\n",
    "percentage = float(input(\"Enter the percentage: \"))\n",
    "\n",
    "# Define the grade criteria\n",
    "if percentage > 90:\n",
    "    grade = \"A\"\n",
    "elif percentage > 80:\n",
    "    grade = \"B\"\n",
    "elif percentage >= 60:\n",
    "    grade = \"C\"\n",
    "else:\n",
    "    grade = \"D\"\n",
    "\n",
    "# Display the grade\n",
    "print(f\"Your grade is: {grade}\")\n"
   ]
  },
  {
   "cell_type": "code",
   "execution_count": null,
   "id": "3c09d4ae-c286-4e10-bbab-f72c12f9af68",
   "metadata": {},
   "outputs": [],
   "source": []
  },
  {
   "cell_type": "code",
   "execution_count": 1,
   "id": "512f38b8-6c35-470e-ac42-9c6726aed21b",
   "metadata": {},
   "outputs": [
    {
     "name": "stdin",
     "output_type": "stream",
     "text": [
      "Enter the cost price of the bike (in Rupees):  100000\n"
     ]
    },
    {
     "name": "stdout",
     "output_type": "stream",
     "text": [
      "Road tax to be paid: Rs. 10000.00\n"
     ]
    }
   ],
   "source": [
    "# Accept the cost price of the bike in Rupees\n",
    "cost_price = float(input(\"Enter the cost price of the bike (in Rupees): \"))\n",
    "\n",
    "# Define the tax rates and criteria\n",
    "if cost_price > 100000:\n",
    "    tax_rate = 0.15  # 15%\n",
    "elif cost_price > 50000:\n",
    "    tax_rate = 0.10  # 10%\n",
    "else:\n",
    "    tax_rate = 0.05  # 5%\n",
    "\n",
    "# Calculate the road tax\n",
    "road_tax = cost_price * tax_rate\n",
    "\n",
    "# Display the road tax to be paid\n",
    "print(f\"Road tax to be paid: Rs. {road_tax:.2f}\")\n"
   ]
  },
  {
   "cell_type": "code",
   "execution_count": null,
   "id": "67b93749-37c6-4a43-bd8e-1a7397348925",
   "metadata": {},
   "outputs": [],
   "source": []
  },
  {
   "cell_type": "code",
   "execution_count": 2,
   "id": "f3a4f412-c911-4756-b35a-7328e79631c0",
   "metadata": {},
   "outputs": [
    {
     "name": "stdin",
     "output_type": "stream",
     "text": [
      "Enter a city name (Delhi, Agra, Jaipur):  Delhi\n"
     ]
    },
    {
     "name": "stdout",
     "output_type": "stream",
     "text": [
      "The monument in Delhi is Red Fort.\n"
     ]
    }
   ],
   "source": [
    "# Create a dictionary to store city-monument mappings\n",
    "city_monuments = {\n",
    "    'Delhi': 'Red Fort',\n",
    "    'Agra': 'Taj Mahal',\n",
    "    'Jaipur': 'Jal Mahal'\n",
    "}\n",
    "\n",
    "# Get the city name from the user\n",
    "city = input(\"Enter a city name (Delhi, Agra, Jaipur): \")\n",
    "\n",
    "# Check if the entered city is in the dictionary\n",
    "if city in city_monuments:\n",
    "    monument = city_monuments[city]\n",
    "    print(f\"The monument in {city} is {monument}.\")\n",
    "else:\n",
    "    print(\"City not found in the database.\")\n"
   ]
  },
  {
   "cell_type": "code",
   "execution_count": null,
   "id": "c72d3843-c2f5-419d-9105-bfb6e95413ba",
   "metadata": {},
   "outputs": [],
   "source": []
  },
  {
   "cell_type": "code",
   "execution_count": 3,
   "id": "40a52f99-73fc-4d1a-836f-619109325cac",
   "metadata": {},
   "outputs": [
    {
     "name": "stdin",
     "output_type": "stream",
     "text": [
      "Enter a number:  9\n"
     ]
    },
    {
     "name": "stdout",
     "output_type": "stream",
     "text": [
      "The number can be divided by 3 0 times before it is less than or equal to 10.\n"
     ]
    }
   ],
   "source": [
    "# Get the number from the user\n",
    "number = int(input(\"Enter a number: \"))\n",
    "\n",
    "# Initialize a count variable to keep track of the number of divisions\n",
    "count = 0\n",
    "\n",
    "# Keep dividing the number by 3 until it's less than or equal to 10\n",
    "while number > 10:\n",
    "    number /= 3\n",
    "    count += 1\n",
    "\n",
    "# Print the result\n",
    "print(f\"The number can be divided by 3 {count} times before it is less than or equal to 10.\")\n"
   ]
  },
  {
   "cell_type": "code",
   "execution_count": null,
   "id": "f4e3fb02-7120-459c-8934-a8b36ac9a2e5",
   "metadata": {},
   "outputs": [],
   "source": []
  },
  {
   "cell_type": "markdown",
   "id": "69ef865b-3617-4262-9d81-dac8203fadce",
   "metadata": {},
   "source": [
    "A while loop in Python is used when you want to repeatedly execute a block of code as long as a certain condition remains true. Unlike a for loop that is often used when you have a specific number of iterations, a while loop is more flexible and can run indefinitely until the specified condition is no longer met.\n",
    "\n",
    "Here's a detailed description of why and when to use a while loop in Python, along with an example:\n",
    "\n",
    "Why use a while loop:\n",
    "\n",
    "1.Dynamic Iterations: While loops are suitable when the number of iterations is not known in advance or depends on a certain condition. They allow you to perform a task until a specific condition is met.\n",
    "\n",
    "2.User Input: When dealing with user input, you may not know how many times a user will provide input. A while loop can continue until the user decides to exit.\n",
    "\n",
    "3.Continuous Monitoring: While loops are handy for scenarios where you need to continuously monitor some condition, like sensor data or real-time events.\n",
    "\n",
    "4.Simulation: In simulations, you may want to keep running the simulation until certain conditions are satisfied, and this can be implemented using a while loop.\n",
    "\n",
    "5.Complex Exit Criteria: When the exit criteria for a loop are complex and depend on several factors, a while loop provides more flexibility."
   ]
  },
  {
   "cell_type": "markdown",
   "id": "10217a71-12ba-4f63-86ca-90fdb4fa92d4",
   "metadata": {},
   "source": [
    "Example:\n",
    "Let's consider a simple example of a while loop that counts from 1 to 10. In this case, the condition is simple, but it demonstrates the basic structure and usage of a while loop."
   ]
  },
  {
   "cell_type": "code",
   "execution_count": 4,
   "id": "96231771-94a5-4dbe-81bc-8aad0419e0ab",
   "metadata": {},
   "outputs": [
    {
     "name": "stdout",
     "output_type": "stream",
     "text": [
      "1\n",
      "2\n",
      "3\n",
      "4\n",
      "5\n",
      "6\n",
      "7\n",
      "8\n",
      "9\n",
      "10\n"
     ]
    }
   ],
   "source": [
    "count = 1\n",
    "while count <= 10:\n",
    "    print(count)\n",
    "    count += 1"
   ]
  },
  {
   "cell_type": "markdown",
   "id": "56c12ef1-3c26-4029-b2c1-d2b7664abb08",
   "metadata": {},
   "source": [
    "In this example:\n",
    "\n",
    "We initialize count to 1.\n",
    "The while loop checks if count is less than or equal to 10.\n",
    "If the condition is true, it executes the code inside the loop, which includes printing the value of count and incrementing it by 1.\n",
    "This process repeats until the condition is no longer met (i.e., count becomes 11 or greater), at which point the loop terminates."
   ]
  },
  {
   "cell_type": "code",
   "execution_count": null,
   "id": "6f078984-059e-4cc4-bd16-9b0aa417cd27",
   "metadata": {},
   "outputs": [],
   "source": []
  },
  {
   "cell_type": "code",
   "execution_count": 6,
   "id": "86543031-c49a-44c3-ac55-f6f9e8d1654b",
   "metadata": {},
   "outputs": [
    {
     "name": "stdout",
     "output_type": "stream",
     "text": [
      "* \n",
      "* * \n",
      "* * * \n",
      "* * * * \n",
      "* * * * * \n"
     ]
    }
   ],
   "source": [
    "# Pattern 1: Right Triangle\n",
    "row = 1\n",
    "while row <= 5:\n",
    "    col = 1\n",
    "    while col <= row:\n",
    "        print(\"*\", end=\" \")\n",
    "        col += 1\n",
    "    print()\n",
    "    row += 1\n"
   ]
  },
  {
   "cell_type": "code",
   "execution_count": null,
   "id": "d08e930f-3add-478d-bb80-eb153b5410a2",
   "metadata": {},
   "outputs": [],
   "source": []
  },
  {
   "cell_type": "code",
   "execution_count": 7,
   "id": "74b5becd-8bdf-4f9e-8f9f-bff635c3c0b2",
   "metadata": {},
   "outputs": [
    {
     "name": "stdout",
     "output_type": "stream",
     "text": [
      "# # # # # \n",
      "# # # # # \n",
      "# # # # # \n",
      "# # # # # \n",
      "# # # # # \n"
     ]
    }
   ],
   "source": [
    "# Pattern 2: Square\n",
    "size = 5\n",
    "row = 1\n",
    "while row <= size:\n",
    "    col = 1\n",
    "    while col <= size:\n",
    "        print(\"#\", end=\" \")\n",
    "        col += 1\n",
    "    print()\n",
    "    row += 1\n"
   ]
  },
  {
   "cell_type": "code",
   "execution_count": null,
   "id": "2cd695d3-2cb5-42af-b321-6bf1297db2bf",
   "metadata": {},
   "outputs": [],
   "source": []
  },
  {
   "cell_type": "code",
   "execution_count": 8,
   "id": "83ce6ada-7d3e-457c-a7bf-c03b10d4c6ad",
   "metadata": {},
   "outputs": [
    {
     "name": "stdout",
     "output_type": "stream",
     "text": [
      "      1 \n",
      "    1 2 1 \n",
      "  1 2 3 2 1 \n",
      "1 2 3 4 3 2 1 \n"
     ]
    }
   ],
   "source": [
    "# Pattern 3: Pyramid\n",
    "height = 4\n",
    "row = 1\n",
    "while row <= height:\n",
    "    # Print leading spaces\n",
    "    space = height - row\n",
    "    while space > 0:\n",
    "        print(\" \", end=\" \")\n",
    "        space -= 1\n",
    "\n",
    "    col = 1\n",
    "    num = 1\n",
    "    while col <= row:\n",
    "        print(num, end=\" \")\n",
    "        num += 1\n",
    "        col += 1\n",
    "\n",
    "    col = 2\n",
    "    num -= 2\n",
    "    while col <= row:\n",
    "        print(num, end=\" \")\n",
    "        num -= 1\n",
    "        col += 1\n",
    "\n",
    "    print()\n",
    "    row += 1\n"
   ]
  },
  {
   "cell_type": "code",
   "execution_count": null,
   "id": "b752c700-7232-4c53-8dda-68204deee969",
   "metadata": {},
   "outputs": [],
   "source": []
  },
  {
   "cell_type": "code",
   "execution_count": 9,
   "id": "5f4f478a-6938-43fc-8396-942b17255d9f",
   "metadata": {},
   "outputs": [
    {
     "name": "stdout",
     "output_type": "stream",
     "text": [
      "10\n",
      "9\n",
      "8\n",
      "7\n",
      "6\n",
      "5\n",
      "4\n",
      "3\n",
      "2\n",
      "1\n"
     ]
    }
   ],
   "source": [
    "number = 10\n",
    "\n",
    "while number >= 1:\n",
    "    print(number)\n",
    "    number -= 1\n"
   ]
  },
  {
   "cell_type": "code",
   "execution_count": null,
   "id": "75d7df73-1554-4d9c-92ab-e7f35f84d963",
   "metadata": {},
   "outputs": [],
   "source": []
  }
 ],
 "metadata": {
  "kernelspec": {
   "display_name": "Python 3 (ipykernel)",
   "language": "python",
   "name": "python3"
  },
  "language_info": {
   "codemirror_mode": {
    "name": "ipython",
    "version": 3
   },
   "file_extension": ".py",
   "mimetype": "text/x-python",
   "name": "python",
   "nbconvert_exporter": "python",
   "pygments_lexer": "ipython3",
   "version": "3.10.8"
  }
 },
 "nbformat": 4,
 "nbformat_minor": 5
}
